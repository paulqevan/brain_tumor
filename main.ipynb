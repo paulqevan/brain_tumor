{
 "cells": [
  {
   "cell_type": "code",
   "execution_count": 2,
   "id": "034f502d",
   "metadata": {},
   "outputs": [],
   "source": [
    "import torch \n",
    "from torch import nn, optim \n",
    "from torchvision import datasets, transforms \n",
    "from torch.utils.data import DataLoader\n",
    "\n",
    "# Use of GPU otherwise CPU \n",
    "device = torch.device('cuda' if torch.cuda.is_available() else 'cpu')\n",
    "\n",
    "# List of transformation\n",
    "tf = [\n",
    "    transforms.Resize((128, 128)),\n",
    "    transforms.ToTensor(),\n",
    "    transforms.Normalize([0.5, 0.5, 0.5], [0.5, 0.5, 0.5])\n",
    "]\n",
    "\n",
    "# Opens en applies transformations established previously\n",
    "train_dl = DataLoader(\n",
    "    datasets.ImageFolder('data/Training', tf),\n",
    "    batch_size=32, shuffle=True, num_workers=4, pin_memory=True \n",
    ")\n",
    "\n",
    "test_dl = DataLoader(\n",
    "    datasets.ImageFolder('data/Testing', tf),\n",
    "    batch_size=32, shuffle=True, num_workers=4, pin_memory=True \n",
    ")"
   ]
  },
  {
   "cell_type": "code",
   "execution_count": null,
   "id": "5c643486",
   "metadata": {},
   "outputs": [],
   "source": []
  }
 ],
 "metadata": {
  "kernelspec": {
   "display_name": "Python 3",
   "language": "python",
   "name": "python3"
  },
  "language_info": {
   "codemirror_mode": {
    "name": "ipython",
    "version": 3
   },
   "file_extension": ".py",
   "mimetype": "text/x-python",
   "name": "python",
   "nbconvert_exporter": "python",
   "pygments_lexer": "ipython3",
   "version": "3.13.5"
  }
 },
 "nbformat": 4,
 "nbformat_minor": 5
}
