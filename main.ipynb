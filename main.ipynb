{
 "cells": [
  {
   "cell_type": "code",
   "execution_count": 5,
   "id": "034f502d",
   "metadata": {},
   "outputs": [],
   "source": [
    "import torch \n",
    "from torch import nn, optim \n",
    "from torchvision import datasets, transforms \n",
    "from torch.utils.data import DataLoader\n",
    "\n",
    "# Use of GPU otherwise CPU \n",
    "device = torch.device('cuda' if torch.cuda.is_available() else 'cpu')\n",
    "\n",
    "# List of transformation\n",
    "tf = transforms.Compose([\n",
    "    transforms.Resize((128, 128)),\n",
    "    transforms.ToTensor(),\n",
    "    transforms.Normalize([0.5, 0.5, 0.5], [0.5, 0.5, 0.5])\n",
    "])\n",
    "\n",
    "# Opens en applies transformations established previously\n",
    "train_dl = DataLoader(\n",
    "    datasets.ImageFolder('data/Training', tf),\n",
    "    batch_size=32, shuffle=True, num_workers=4, pin_memory=True \n",
    ")\n",
    "\n",
    "test_dl = DataLoader(\n",
    "    datasets.ImageFolder('data/Testing', tf),\n",
    "    batch_size=32, shuffle=True, num_workers=4, pin_memory=True \n",
    ")"
   ]
  },
  {
   "cell_type": "code",
   "execution_count": 3,
   "id": "5c643486",
   "metadata": {},
   "outputs": [],
   "source": [
    "model = nn.Sequential(\n",
    "    nn.Conv2d(3, 32, 3, 1, 1), nn.ReLU(), nn.MaxPool2d(2),\n",
    "    nn.Conv2d(32, 64, 3, 1, 1), nn.ReLU(), nn.MaxPool2d(2),\n",
    "    nn.Conv2d(64, 128, 3, 1, 1), nn.ReLU(), nn.MaxPool2d(2),\n",
    "    nn.Flatten(),\n",
    "    nn.Linear(128 * 16 * 16, 256), nn.ReLU(), nn.Dropout(0.5),\n",
    "    nn.Linear(256, 4) # There are four classes\n",
    ").to(device)"
   ]
  },
  {
   "cell_type": "code",
   "execution_count": 4,
   "id": "bd2a9c32",
   "metadata": {},
   "outputs": [],
   "source": [
    "opt = optim.AdamW(model.parameters(), 1e-4)\n",
    "loss_fn = nn.CrossEntropyLoss()"
   ]
  },
  {
   "cell_type": "code",
   "execution_count": 6,
   "id": "40e11fd1",
   "metadata": {},
   "outputs": [
    {
     "name": "stderr",
     "output_type": "stream",
     "text": [
      "c:\\Users\\qevan\\AppData\\Local\\Programs\\Python\\Python313\\Lib\\site-packages\\torch\\utils\\data\\dataloader.py:666: UserWarning: 'pin_memory' argument is set as true but no accelerator is found, then device pinned memory won't be used.\n",
      "  warnings.warn(warn_msg)\n"
     ]
    },
    {
     "name": "stdout",
     "output_type": "stream",
     "text": [
      "Epoch 1: Loss was 152.30270385742188\n",
      "Epoch 2: Loss was 103.6070556640625\n",
      "Epoch 3: Loss was 87.07495880126953\n",
      "Epoch 4: Loss was 74.62388610839844\n",
      "Epoch 5: Loss was 65.86027526855469\n",
      "Epoch 6: Loss was 58.61150360107422\n",
      "Epoch 7: Loss was 50.34902572631836\n",
      "Epoch 8: Loss was 46.774024963378906\n",
      "Epoch 9: Loss was 42.22377395629883\n",
      "Epoch 10: Loss was 36.864593505859375\n",
      "Epoch 11: Loss was 34.560630798339844\n",
      "Epoch 12: Loss was 30.837270736694336\n",
      "Epoch 13: Loss was 26.791500091552734\n",
      "Epoch 14: Loss was 24.539220809936523\n",
      "Epoch 15: Loss was 23.313674926757812\n",
      "Epoch 16: Loss was 21.63327980041504\n",
      "Epoch 17: Loss was 17.861398696899414\n",
      "Epoch 18: Loss was 17.32862091064453\n",
      "Epoch 19: Loss was 16.333770751953125\n",
      "Epoch 20: Loss was 14.059627532958984\n",
      "Epoch 21: Loss was 12.894647598266602\n",
      "Epoch 22: Loss was 11.809785842895508\n",
      "Epoch 23: Loss was 11.582215309143066\n",
      "Epoch 24: Loss was 9.74748706817627\n",
      "Epoch 25: Loss was 9.070270538330078\n"
     ]
    }
   ],
   "source": [
    "model.train()\n",
    "\n",
    "for epoch in range(25) :\n",
    "    running_loss = 0\n",
    "\n",
    "    for x, y in train_dl :\n",
    "        opt.zero_grad()\n",
    "\n",
    "        loss = loss_fn(model(x.to(device)), y.to(device))\n",
    "        loss.backward()\n",
    "\n",
    "        running_loss += loss \n",
    "\n",
    "        opt.step()\n",
    "\n",
    "    print(f'Epoch {epoch + 1}: Loss was {running_loss}')\n",
    "\n",
    "        "
   ]
  },
  {
   "cell_type": "code",
   "execution_count": 7,
   "id": "8ba693ef",
   "metadata": {},
   "outputs": [
    {
     "name": "stderr",
     "output_type": "stream",
     "text": [
      "c:\\Users\\qevan\\AppData\\Local\\Programs\\Python\\Python313\\Lib\\site-packages\\torch\\utils\\data\\dataloader.py:666: UserWarning: 'pin_memory' argument is set as true but no accelerator is found, then device pinned memory won't be used.\n",
      "  warnings.warn(warn_msg)\n"
     ]
    },
    {
     "name": "stdout",
     "output_type": "stream",
     "text": [
      "Test loss : 0.1306293540265522 Test accuracy : 96.26239511823036\n"
     ]
    }
   ],
   "source": [
    "# Use of the test set \n",
    "\n",
    "model.eval()\n",
    "test_loss, correct = 0.0, 0\n",
    "\n",
    "with torch.no_grad():\n",
    "    for x, y in test_dl :\n",
    "        x, y = x.to(device), y.to(device)\n",
    "    \n",
    "        logits = model(x)\n",
    "        test_loss += loss_fn(logits, y).item() * y.size(0)\n",
    "\n",
    "        preds = logits.argmax(dim = 1)\n",
    "        correct += (preds == y).sum().item()\n",
    "\n",
    "test_loss /= len(test_dl.dataset)\n",
    "accuracy = 100.0 * correct / len(test_dl.dataset)\n",
    "\n",
    "print('Test loss :', test_loss, 'Test accuracy :', accuracy)"
   ]
  }
 ],
 "metadata": {
  "kernelspec": {
   "display_name": "Python 3",
   "language": "python",
   "name": "python3"
  },
  "language_info": {
   "codemirror_mode": {
    "name": "ipython",
    "version": 3
   },
   "file_extension": ".py",
   "mimetype": "text/x-python",
   "name": "python",
   "nbconvert_exporter": "python",
   "pygments_lexer": "ipython3",
   "version": "3.13.5"
  }
 },
 "nbformat": 4,
 "nbformat_minor": 5
}
